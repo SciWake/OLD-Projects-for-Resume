{
 "cells": [
  {
   "cell_type": "markdown",
   "metadata": {},
   "source": [
    "<h1 style=\"color:black\" align=\"center\">Настройки перед обработкой данных</h1>"
   ]
  },
  {
   "cell_type": "markdown",
   "metadata": {},
   "source": [
    "### Подключение бибилиотек"
   ]
  },
  {
   "cell_type": "code",
   "execution_count": 1,
   "metadata": {},
   "outputs": [],
   "source": [
    "import numpy as np\n",
    "import pandas as pd"
   ]
  },
  {
   "cell_type": "markdown",
   "metadata": {},
   "source": [
    "### Загрузка данных"
   ]
  },
  {
   "cell_type": "code",
   "execution_count": 2,
   "metadata": {},
   "outputs": [],
   "source": [
    "data = pd.read_csv('./input_data/database.csv')"
   ]
  },
  {
   "cell_type": "markdown",
   "metadata": {},
   "source": [
    "**Удаление признаков**"
   ]
  },
  {
   "cell_type": "markdown",
   "metadata": {},
   "source": [
    "Так как сбор данных произволился в одном городе и штате, мы можем убрать параметр `city`, `state`. Если бы данные были собраны по другим регионам, то данный признак имел бы большое значение.\n",
    "\n",
    "Удалим также некоторые признаки, которые в данный момент не имеют смысла."
   ]
  },
  {
   "cell_type": "code",
   "execution_count": 3,
   "metadata": {},
   "outputs": [],
   "source": [
    "drop_columns = ['url', 'description', 'photos', 'city', 'state']\n",
    "data.drop(drop_columns, axis=1, inplace=True)"
   ]
  },
  {
   "cell_type": "markdown",
   "metadata": {},
   "source": [
    "<h1 style=\"color:black\" align=\"center\">Выполняем обработку пропусков</h1>"
   ]
  },
  {
   "cell_type": "code",
   "execution_count": 4,
   "metadata": {},
   "outputs": [
    {
     "name": "stdout",
     "output_type": "stream",
     "text": [
      "bathrooms - 1\n",
      "bathroomsFull - 4\n",
      "bedrooms - 18\n",
      "fireplaceFeatures - 384\n",
      "fireplaces - 113\n",
      "garageSpaces - 63\n",
      "hasAttachedGarage - 336\n",
      "hasCarport - 56\n",
      "hasHeating - 148\n",
      "heating - 149\n",
      "laundryFeatures - 171\n",
      "livingArea - 1\n",
      "parkingFeatures - 6\n",
      "propertyTaxRate - 1\n",
      "solarFactor - 88\n",
      "specialListingConditions - 37\n",
      "taxAnnualAmount - 76\n",
      "taxAssessedValue - 77\n",
      "yearBuilt - 1\n"
     ]
    }
   ],
   "source": [
    "for column in data.columns:\n",
    "    null_data = data[column].isnull().sum()\n",
    "    if null_data:\n",
    "        print(f'{column} - {null_data}')"
   ]
  },
  {
   "cell_type": "markdown",
   "metadata": {},
   "source": [
    "### `yearBuilt` - год постройки"
   ]
  },
  {
   "cell_type": "code",
   "execution_count": 5,
   "metadata": {},
   "outputs": [
    {
     "data": {
      "text/html": [
       "<div>\n",
       "<style scoped>\n",
       "    .dataframe tbody tr th:only-of-type {\n",
       "        vertical-align: middle;\n",
       "    }\n",
       "\n",
       "    .dataframe tbody tr th {\n",
       "        vertical-align: top;\n",
       "    }\n",
       "\n",
       "    .dataframe thead th {\n",
       "        text-align: right;\n",
       "    }\n",
       "</style>\n",
       "<table border=\"1\" class=\"dataframe\">\n",
       "  <thead>\n",
       "    <tr style=\"text-align: right;\">\n",
       "      <th></th>\n",
       "      <th>bathrooms</th>\n",
       "      <th>bathroomsFull</th>\n",
       "      <th>bedrooms</th>\n",
       "      <th>fireplaceFeatures</th>\n",
       "      <th>fireplaces</th>\n",
       "      <th>garageSpaces</th>\n",
       "      <th>hasAttachedGarage</th>\n",
       "      <th>hasCarport</th>\n",
       "      <th>hasHeating</th>\n",
       "      <th>hasPetsAllowed</th>\n",
       "      <th>...</th>\n",
       "      <th>solarClimateFactor</th>\n",
       "      <th>solarElectricityFactor</th>\n",
       "      <th>solarFactor</th>\n",
       "      <th>solarSunScore</th>\n",
       "      <th>specialListingConditions</th>\n",
       "      <th>streetAddress</th>\n",
       "      <th>taxAnnualAmount</th>\n",
       "      <th>taxAssessedValue</th>\n",
       "      <th>yearBuilt</th>\n",
       "      <th>zipcode</th>\n",
       "    </tr>\n",
       "  </thead>\n",
       "  <tbody>\n",
       "    <tr>\n",
       "      <th>452</th>\n",
       "      <td>NaN</td>\n",
       "      <td>NaN</td>\n",
       "      <td>NaN</td>\n",
       "      <td>NaN</td>\n",
       "      <td>NaN</td>\n",
       "      <td>NaN</td>\n",
       "      <td>NaN</td>\n",
       "      <td>NaN</td>\n",
       "      <td>NaN</td>\n",
       "      <td>False</td>\n",
       "      <td>...</td>\n",
       "      <td>6.62</td>\n",
       "      <td>5.02</td>\n",
       "      <td>0.88</td>\n",
       "      <td>84.52</td>\n",
       "      <td>Offer As Is</td>\n",
       "      <td>1 Head St</td>\n",
       "      <td>3091.0</td>\n",
       "      <td>196154.0</td>\n",
       "      <td>NaN</td>\n",
       "      <td>94112</td>\n",
       "    </tr>\n",
       "  </tbody>\n",
       "</table>\n",
       "<p>1 rows × 35 columns</p>\n",
       "</div>"
      ],
      "text/plain": [
       "     bathrooms  bathroomsFull  bedrooms fireplaceFeatures  fireplaces  \\\n",
       "452        NaN            NaN       NaN               NaN         NaN   \n",
       "\n",
       "     garageSpaces hasAttachedGarage hasCarport hasHeating  hasPetsAllowed  \\\n",
       "452           NaN               NaN        NaN        NaN           False   \n",
       "\n",
       "     ... solarClimateFactor solarElectricityFactor  solarFactor  \\\n",
       "452  ...               6.62                   5.02         0.88   \n",
       "\n",
       "     solarSunScore specialListingConditions  streetAddress  taxAnnualAmount  \\\n",
       "452          84.52              Offer As Is      1 Head St           3091.0   \n",
       "\n",
       "     taxAssessedValue  yearBuilt  zipcode  \n",
       "452          196154.0        NaN    94112  \n",
       "\n",
       "[1 rows x 35 columns]"
      ]
     },
     "execution_count": 5,
     "metadata": {},
     "output_type": "execute_result"
    }
   ],
   "source": [
    "data.loc[data['yearBuilt'].isnull()]"
   ]
  },
  {
   "cell_type": "markdown",
   "metadata": {},
   "source": [
    "Замечаем большое количество пропусков у других признаков, поэтому данную строку будет правильно удалить."
   ]
  },
  {
   "cell_type": "code",
   "execution_count": 6,
   "metadata": {},
   "outputs": [],
   "source": [
    "data.drop(data.loc[data['yearBuilt'].isnull()].index, axis=0, inplace=True)"
   ]
  },
  {
   "cell_type": "markdown",
   "metadata": {},
   "source": [
    "### `bathroomsFull`\n",
    "\n",
    "A full bathroom (shower and bath). Укомплектованная ванная комната (душ и ванна), гардероб."
   ]
  },
  {
   "cell_type": "code",
   "execution_count": 7,
   "metadata": {},
   "outputs": [
    {
     "data": {
      "text/html": [
       "<div>\n",
       "<style scoped>\n",
       "    .dataframe tbody tr th:only-of-type {\n",
       "        vertical-align: middle;\n",
       "    }\n",
       "\n",
       "    .dataframe tbody tr th {\n",
       "        vertical-align: top;\n",
       "    }\n",
       "\n",
       "    .dataframe thead th {\n",
       "        text-align: right;\n",
       "    }\n",
       "</style>\n",
       "<table border=\"1\" class=\"dataframe\">\n",
       "  <thead>\n",
       "    <tr style=\"text-align: right;\">\n",
       "      <th></th>\n",
       "      <th>bathroomsFull</th>\n",
       "      <th>bathrooms</th>\n",
       "    </tr>\n",
       "  </thead>\n",
       "  <tbody>\n",
       "    <tr>\n",
       "      <th>341</th>\n",
       "      <td>NaN</td>\n",
       "      <td>3.0</td>\n",
       "    </tr>\n",
       "    <tr>\n",
       "      <th>550</th>\n",
       "      <td>NaN</td>\n",
       "      <td>5.0</td>\n",
       "    </tr>\n",
       "    <tr>\n",
       "      <th>551</th>\n",
       "      <td>NaN</td>\n",
       "      <td>3.0</td>\n",
       "    </tr>\n",
       "  </tbody>\n",
       "</table>\n",
       "</div>"
      ],
      "text/plain": [
       "     bathroomsFull  bathrooms\n",
       "341            NaN        3.0\n",
       "550            NaN        5.0\n",
       "551            NaN        3.0"
      ]
     },
     "execution_count": 7,
     "metadata": {},
     "output_type": "execute_result"
    }
   ],
   "source": [
    "data.loc[data['bathroomsFull'].isnull(), ['bathroomsFull', 'bathrooms']]"
   ]
  },
  {
   "cell_type": "markdown",
   "metadata": {},
   "source": [
    "Можем выдвинуть предположение, что `bathroomsFull` равно количеству `bathrooms`."
   ]
  },
  {
   "cell_type": "code",
   "execution_count": 8,
   "metadata": {},
   "outputs": [],
   "source": [
    "data.loc[data['bathroomsFull'].isnull(), 'bathroomsFull'] = data.loc[data['bathroomsFull'].isnull(), 'bathrooms']"
   ]
  },
  {
   "cell_type": "markdown",
   "metadata": {},
   "source": [
    "### `bedrooms` - количество спален\n",
    "\n",
    "Так как у нас нет информации о количестве комнат в доме, мы можем произвести замену комнат медианой значеним."
   ]
  },
  {
   "cell_type": "code",
   "execution_count": 9,
   "metadata": {},
   "outputs": [],
   "source": [
    "data.bedrooms.fillna(data.bedrooms.median(), inplace=True)"
   ]
  },
  {
   "cell_type": "markdown",
   "metadata": {},
   "source": [
    "### `fireplaces ` - количество камионов"
   ]
  },
  {
   "cell_type": "code",
   "execution_count": 10,
   "metadata": {},
   "outputs": [
    {
     "data": {
      "text/html": [
       "<div>\n",
       "<style scoped>\n",
       "    .dataframe tbody tr th:only-of-type {\n",
       "        vertical-align: middle;\n",
       "    }\n",
       "\n",
       "    .dataframe tbody tr th {\n",
       "        vertical-align: top;\n",
       "    }\n",
       "\n",
       "    .dataframe thead th {\n",
       "        text-align: right;\n",
       "    }\n",
       "</style>\n",
       "<table border=\"1\" class=\"dataframe\">\n",
       "  <thead>\n",
       "    <tr style=\"text-align: right;\">\n",
       "      <th></th>\n",
       "      <th>fireplaceFeatures</th>\n",
       "      <th>fireplaces</th>\n",
       "    </tr>\n",
       "  </thead>\n",
       "  <tbody>\n",
       "    <tr>\n",
       "      <th>84</th>\n",
       "      <td>['Wood Burning']</td>\n",
       "      <td>NaN</td>\n",
       "    </tr>\n",
       "    <tr>\n",
       "      <th>395</th>\n",
       "      <td>['Wood Burning', 'Brick', 'Living Room']</td>\n",
       "      <td>NaN</td>\n",
       "    </tr>\n",
       "  </tbody>\n",
       "</table>\n",
       "</div>"
      ],
      "text/plain": [
       "                            fireplaceFeatures  fireplaces\n",
       "84                           ['Wood Burning']         NaN\n",
       "395  ['Wood Burning', 'Brick', 'Living Room']         NaN"
      ]
     },
     "execution_count": 10,
     "metadata": {},
     "output_type": "execute_result"
    }
   ],
   "source": [
    "data.loc[(data['fireplaces'].isnull()) & (data['fireplaceFeatures'].notnull()), ['fireplaceFeatures', 'fireplaces']]"
   ]
  },
  {
   "cell_type": "markdown",
   "metadata": {},
   "source": [
    "Если имеются описание для камин, значит, он явно существет. Заменим число каминов часто встречающимся значением."
   ]
  },
  {
   "cell_type": "code",
   "execution_count": 11,
   "metadata": {},
   "outputs": [],
   "source": [
    "data.loc[data.index.isin([84, 395]), 'fireplaces'] = data.loc[data['fireplaces'] != 0, 'fireplaces'].mode()[0]"
   ]
  },
  {
   "cell_type": "markdown",
   "metadata": {},
   "source": [
    "Все остальные значения заменим нулём, так как признак не был описан продавцом дома, значит количество равно 0."
   ]
  },
  {
   "cell_type": "code",
   "execution_count": 12,
   "metadata": {},
   "outputs": [],
   "source": [
    "data.fireplaces.fillna(0, inplace=True)"
   ]
  },
  {
   "cell_type": "markdown",
   "metadata": {},
   "source": [
    "### `solarFactor` - солнечный фактор\n",
    "\n",
    "Заменим пропуски часто встречающимся значением."
   ]
  },
  {
   "cell_type": "code",
   "execution_count": 13,
   "metadata": {},
   "outputs": [],
   "source": [
    "data.solarFactor.fillna(data['solarFactor'].mode()[0], inplace=True)"
   ]
  },
  {
   "cell_type": "markdown",
   "metadata": {},
   "source": [
    "### `taxAssessedValue` - налоговая оценочная стоимость\n",
    "\n",
    "На данный момент произведём замену средним арифметическим."
   ]
  },
  {
   "cell_type": "code",
   "execution_count": 14,
   "metadata": {},
   "outputs": [],
   "source": [
    "data.taxAssessedValue.fillna(data['taxAssessedValue'].mean(), inplace=True)"
   ]
  },
  {
   "cell_type": "markdown",
   "metadata": {},
   "source": [
    "### `taxAnnualAmount` - Годовая сумма налога\n",
    "\n",
    "На данный момент произведём замену средним арифметическим."
   ]
  },
  {
   "cell_type": "code",
   "execution_count": 15,
   "metadata": {},
   "outputs": [],
   "source": [
    "data.taxAnnualAmount.fillna(data['taxAnnualAmount'].mean(), inplace=True)"
   ]
  },
  {
   "cell_type": "markdown",
   "metadata": {},
   "source": [
    "### `garageSpaces` - количество гаражей"
   ]
  },
  {
   "cell_type": "code",
   "execution_count": 16,
   "metadata": {},
   "outputs": [
    {
     "data": {
      "text/html": [
       "<div>\n",
       "<style scoped>\n",
       "    .dataframe tbody tr th:only-of-type {\n",
       "        vertical-align: middle;\n",
       "    }\n",
       "\n",
       "    .dataframe tbody tr th {\n",
       "        vertical-align: top;\n",
       "    }\n",
       "\n",
       "    .dataframe thead th {\n",
       "        text-align: right;\n",
       "    }\n",
       "</style>\n",
       "<table border=\"1\" class=\"dataframe\">\n",
       "  <thead>\n",
       "    <tr style=\"text-align: right;\">\n",
       "      <th></th>\n",
       "      <th>garageSpaces</th>\n",
       "      <th>hasAttachedGarage</th>\n",
       "    </tr>\n",
       "  </thead>\n",
       "  <tbody>\n",
       "    <tr>\n",
       "      <th>341</th>\n",
       "      <td>NaN</td>\n",
       "      <td>True</td>\n",
       "    </tr>\n",
       "    <tr>\n",
       "      <th>550</th>\n",
       "      <td>NaN</td>\n",
       "      <td>True</td>\n",
       "    </tr>\n",
       "  </tbody>\n",
       "</table>\n",
       "</div>"
      ],
      "text/plain": [
       "     garageSpaces hasAttachedGarage\n",
       "341           NaN              True\n",
       "550           NaN              True"
      ]
     },
     "execution_count": 16,
     "metadata": {},
     "output_type": "execute_result"
    }
   ],
   "source": [
    "data.loc[(data['garageSpaces'].isnull()) & (data['hasAttachedGarage'] == True), ['garageSpaces', 'hasAttachedGarage']]"
   ]
  },
  {
   "cell_type": "markdown",
   "metadata": {},
   "source": [
    "Если имеется пристроенный гараж, значит и количество гаражей не может быть нулевым. Заменим число гаражей часто встречающимся значением."
   ]
  },
  {
   "cell_type": "code",
   "execution_count": 17,
   "metadata": {},
   "outputs": [],
   "source": [
    "data.loc[data.index.isin([341, 550]), 'garageSpaces'] = data.loc[data['garageSpaces'] != 0, 'garageSpaces'].mode()[0]"
   ]
  },
  {
   "cell_type": "markdown",
   "metadata": {},
   "source": [
    "Все остальные значения заменим нулём, так как признак не был описан продавцом дома, значит количество равно 0."
   ]
  },
  {
   "cell_type": "code",
   "execution_count": 18,
   "metadata": {},
   "outputs": [],
   "source": [
    "data.garageSpaces.fillna(0, inplace=True)"
   ]
  },
  {
   "cell_type": "markdown",
   "metadata": {},
   "source": [
    "### `specialListingConditions` - перечень особых условий продажи "
   ]
  },
  {
   "cell_type": "code",
   "execution_count": 19,
   "metadata": {},
   "outputs": [],
   "source": [
    "data.specialListingConditions.fillna(data['specialListingConditions'].mode()[0], inplace=True)"
   ]
  },
  {
   "cell_type": "markdown",
   "metadata": {},
   "source": [
    "### `Множествозначные признаки`"
   ]
  },
  {
   "cell_type": "code",
   "execution_count": 20,
   "metadata": {},
   "outputs": [],
   "source": [
    "data['fireplaceFeatures'].fillna('No information', inplace=True)\n",
    "data['heating'].fillna('No information', inplace=True)\n",
    "data['laundryFeatures'].fillna('No information', inplace=True)\n",
    "data['parkingFeatures'].fillna('No information', inplace=True)"
   ]
  },
  {
   "cell_type": "markdown",
   "metadata": {},
   "source": [
    "### `Бинарные признаки`\n",
    "\n",
    "Обработав все пропуски, у нас отстались только бинарные признаки."
   ]
  },
  {
   "cell_type": "code",
   "execution_count": 21,
   "metadata": {},
   "outputs": [],
   "source": [
    "data.fillna(False, inplace=True)"
   ]
  },
  {
   "cell_type": "markdown",
   "metadata": {},
   "source": [
    "**Проверяем наличие пропусков**"
   ]
  },
  {
   "cell_type": "code",
   "execution_count": 22,
   "metadata": {},
   "outputs": [],
   "source": [
    "for column in data.columns:\n",
    "    null_data = data[column].isnull().sum()\n",
    "    if null_data:\n",
    "        print(f'{column} - {null_data}')"
   ]
  },
  {
   "cell_type": "markdown",
   "metadata": {},
   "source": [
    "### Сохранение данных"
   ]
  },
  {
   "cell_type": "code",
   "execution_count": 23,
   "metadata": {},
   "outputs": [],
   "source": [
    "data.to_csv('./input_data/database_new.csv', index=False, encoding='utf-8')"
   ]
  }
 ],
 "metadata": {
  "kernelspec": {
   "display_name": "Python 3",
   "language": "python",
   "name": "python3"
  },
  "language_info": {
   "codemirror_mode": {
    "name": "ipython",
    "version": 3
   },
   "file_extension": ".py",
   "mimetype": "text/x-python",
   "name": "python",
   "nbconvert_exporter": "python",
   "pygments_lexer": "ipython3",
   "version": "3.8.5"
  }
 },
 "nbformat": 4,
 "nbformat_minor": 4
}
